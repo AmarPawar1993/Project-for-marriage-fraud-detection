{
 "cells": [
  {
   "cell_type": "code",
   "execution_count": 2,
   "metadata": {},
   "outputs": [],
   "source": [
    "import pandas as pd\n",
    "from sklearn.model_selection import train_test_split\n",
    "from sklearn.linear_model import LogisticRegression\n",
    "from sklearn.neighbors import KNeighborsClassifier\n",
    "from sklearn.tree import DecisionTreeClassifier\n",
    "from sklearn.ensemble import RandomForestClassifier\n",
    "from sklearn.metrics import accuracy_score,confusion_matrix,classification_report\n",
    "from sklearn.preprocessing import OneHotEncoder\n",
    "from sklearn.preprocessing import LabelEncoder as le\n"
   ]
  },
  {
   "cell_type": "code",
   "execution_count": 3,
   "metadata": {},
   "outputs": [
    {
     "name": "stderr",
     "output_type": "stream",
     "text": [
      "/Library/Frameworks/Python.framework/Versions/3.8/lib/python3.8/site-packages/IPython/core/interactiveshell.py:3145: DtypeWarning: Columns (35,36) have mixed types.Specify dtype option on import or set low_memory=False.\n",
      "  has_raised = await self.run_ast_nodes(code_ast.body, cell_name,\n"
     ]
    }
   ],
   "source": [
    "df = pd.read_csv('/Users/sriyabhavaraju/downloads/dfCat.csv')"
   ]
  },
  {
   "cell_type": "code",
   "execution_count": 4,
   "metadata": {
    "scrolled": true
   },
   "outputs": [
    {
     "data": {
      "text/plain": [
       "Index(['ApplicantID', '[I130]PeopleNamePetitioner',\n",
       "       '[I130A]PeopleNameBeneficiary', '[I130]DOBPetitioner',\n",
       "       '[I130]MailingStateFilingPetitioner',\n",
       "       '[I130A]CountryOfBirthBeneficiary', '[I130A]GenderBeneficiary',\n",
       "       '[I130]PassportExpiryBeneficiary', '[I130]PetitionerEthnicity',\n",
       "       '[I130]PetitionerRace', '[I130]PetitionerCitizenStatus',\n",
       "       '[I864]RegularIncome', '[I864]SupplementalIncome',\n",
       "       '[I130]StayingTogetherStatus', '[I130]CurrentMaritalStatus',\n",
       "       '[I864]FederalTaxFiled', '[I485-130]SameEmployer',\n",
       "       '[I130]ImmigrationProceeding', '[I485]CriminalityProvedConvicted',\n",
       "       '[I130]PreviousPetitionFiledPetitionerSameSpouse',\n",
       "       '[I130]PreviousPetitionFiledDifferentSpouse', '[I130A]BeneficiaryInUS',\n",
       "       '[I130-MarriageCertificate]SamePreparorNoterMinister',\n",
       "       '[I130A]DOBBeneficiary', '[I130]GenderPetitioner',\n",
       "       '[CALCULATED]AgeGapDays', '[CALCULATED]AgePetitioner',\n",
       "       '[CALCULATED]AgeBeneficiary', '[CALCULATED]AgeGapYears',\n",
       "       '[I130]PreviousMaritalStatusPetitioner',\n",
       "       '[I130]PreviousMaritalStatusBeneficiary',\n",
       "       '[I130]PreviousLegallySeperatedCountryPetitioner',\n",
       "       '[I130]NumberOfMarriagesPetitioner',\n",
       "       '[I130]NumberOfMarriagesBeneficiary',\n",
       "       '[I485]CriminalityProvedConvictedType',\n",
       "       '[I130]PreviousFiledPetitionerSameSpouseRejectionCondition',\n",
       "       '[I130]PreviousPetitionFiledDifferentSpouseRejectionCondition',\n",
       "       '[I130A]BeneficiaryEthnicity', '[I864]NumberOfDependents',\n",
       "       '[CALCULATED]FederalPovertyLineValue', '[CALCULATED]TotalIncome',\n",
       "       '[I130]DateOfMarriage', '[I130]I94DateofEntry',\n",
       "       '[I130]LastMarriageEndDatePetitioner',\n",
       "       '[I130]LastMarriageEndDateBeneficiary', '[I864]FederalTaxFiledYears',\n",
       "       '[CALCULATED]LengthOfMarriage', '[CALCULATED]YearsSinceDateofEntry',\n",
       "       '[CALCULATED]TotalYearsFromLastMarriagePetitioner',\n",
       "       '[CALCULATED]TotalYearsFromLastMarriageBeneficiary',\n",
       "       '[CALCULATED]DiffEntryDateAndMarriageDate', '[Calculated]FlagType',\n",
       "       '[Calculated]FraudLikelihood', '[Calculated]FraudDescriptive',\n",
       "       '[CALCULATED]AgeGapCategorical', '[CALCULATED]IncomeCheckCategorical',\n",
       "       '[CALCULATED]FederalYearsFiledCheckCategorical',\n",
       "       '[CALCULATED]TotalYearsFromLastMarriagePetitionerCategorical',\n",
       "       '[CALCULATED]TotalYearsFromLastMarriageBeneficiaryCategorical',\n",
       "       '[CALCULATED]LengthOfMarriageCategorical',\n",
       "       '[CALCULATED]DiffEntryDateAndMarriageDateCategorical'],\n",
       "      dtype='object')"
      ]
     },
     "execution_count": 4,
     "metadata": {},
     "output_type": "execute_result"
    }
   ],
   "source": [
    "df.columns"
   ]
  },
  {
   "cell_type": "code",
   "execution_count": 5,
   "metadata": {},
   "outputs": [],
   "source": [
    "#remove columns \n",
    "\n",
    "df1 = df.drop(['ApplicantID','[I130]PeopleNamePetitioner','[I130A]PeopleNameBeneficiary','[I130]DOBPetitioner','[I130]MailingStateFilingPetitioner','[I130A]CountryOfBirthBeneficiary','[I130]PassportExpiryBeneficiary','[I864]RegularIncome', '[I864]SupplementalIncome','[I130A]DOBBeneficiary',\n",
    "               '[CALCULATED]AgeGapDays', '[CALCULATED]AgePetitioner','[CALCULATED]AgeBeneficiary','[I130]DateOfMarriage', '[I130]I94DateofEntry','[I130]LastMarriageEndDatePetitioner','[I130]LastMarriageEndDateBeneficiary','[Calculated]FlagType','[Calculated]FraudDescriptive',\n",
    "               '[CALCULATED]AgeGapCategorical','[CALCULATED]IncomeCheckCategorical','[CALCULATED]FederalYearsFiledCheckCategorical','[CALCULATED]TotalYearsFromLastMarriagePetitionerCategorical','[CALCULATED]TotalYearsFromLastMarriageBeneficiaryCategorical','[CALCULATED]LengthOfMarriageCategorical','[CALCULATED]DiffEntryDateAndMarriageDateCategorical','[I130-MarriageCertificate]SamePreparorNoterMinister','[I130]PreviousLegallySeperatedCountryPetitioner'],axis=1)\n"
   ]
  },
  {
   "cell_type": "code",
   "execution_count": 6,
   "metadata": {},
   "outputs": [
    {
     "name": "stdout",
     "output_type": "stream",
     "text": [
      "<class 'pandas.core.frame.DataFrame'>\n",
      "RangeIndex: 750000 entries, 0 to 749999\n",
      "Data columns (total 33 columns):\n",
      " #   Column                                                        Non-Null Count   Dtype  \n",
      "---  ------                                                        --------------   -----  \n",
      " 0   [I130A]GenderBeneficiary                                      750000 non-null  object \n",
      " 1   [I130]PetitionerEthnicity                                     750000 non-null  object \n",
      " 2   [I130]PetitionerRace                                          750000 non-null  object \n",
      " 3   [I130]PetitionerCitizenStatus                                 750000 non-null  object \n",
      " 4   [I130]StayingTogetherStatus                                   750000 non-null  object \n",
      " 5   [I130]CurrentMaritalStatus                                    750000 non-null  object \n",
      " 6   [I864]FederalTaxFiled                                         750000 non-null  object \n",
      " 7   [I485-130]SameEmployer                                        750000 non-null  object \n",
      " 8   [I130]ImmigrationProceeding                                   750000 non-null  object \n",
      " 9   [I485]CriminalityProvedConvicted                              750000 non-null  object \n",
      " 10  [I130]PreviousPetitionFiledPetitionerSameSpouse               750000 non-null  object \n",
      " 11  [I130]PreviousPetitionFiledDifferentSpouse                    750000 non-null  object \n",
      " 12  [I130A]BeneficiaryInUS                                        750000 non-null  object \n",
      " 13  [I130]GenderPetitioner                                        750000 non-null  object \n",
      " 14  [CALCULATED]AgeGapYears                                       750000 non-null  int64  \n",
      " 15  [I130]PreviousMaritalStatusPetitioner                         750000 non-null  object \n",
      " 16  [I130]PreviousMaritalStatusBeneficiary                        750000 non-null  object \n",
      " 17  [I130]NumberOfMarriagesPetitioner                             750000 non-null  int64  \n",
      " 18  [I130]NumberOfMarriagesBeneficiary                            750000 non-null  int64  \n",
      " 19  [I485]CriminalityProvedConvictedType                          35506 non-null   object \n",
      " 20  [I130]PreviousFiledPetitionerSameSpouseRejectionCondition     30039 non-null   object \n",
      " 21  [I130]PreviousPetitionFiledDifferentSpouseRejectionCondition  39961 non-null   object \n",
      " 22  [I130A]BeneficiaryEthnicity                                   750000 non-null  object \n",
      " 23  [I864]NumberOfDependents                                      750000 non-null  int64  \n",
      " 24  [CALCULATED]FederalPovertyLineValue                           750000 non-null  int64  \n",
      " 25  [CALCULATED]TotalIncome                                       750000 non-null  int64  \n",
      " 26  [I864]FederalTaxFiledYears                                    714527 non-null  object \n",
      " 27  [CALCULATED]LengthOfMarriage                                  750000 non-null  int64  \n",
      " 28  [CALCULATED]YearsSinceDateofEntry                             750000 non-null  int64  \n",
      " 29  [CALCULATED]TotalYearsFromLastMarriagePetitioner              92729 non-null   float64\n",
      " 30  [CALCULATED]TotalYearsFromLastMarriageBeneficiary             93318 non-null   float64\n",
      " 31  [CALCULATED]DiffEntryDateAndMarriageDate                      750000 non-null  float64\n",
      " 32  [Calculated]FraudLikelihood                                   750000 non-null  object \n",
      "dtypes: float64(3), int64(8), object(22)\n",
      "memory usage: 188.8+ MB\n"
     ]
    }
   ],
   "source": [
    "df1.info()"
   ]
  },
  {
   "cell_type": "code",
   "execution_count": 7,
   "metadata": {},
   "outputs": [],
   "source": [
    "# convert 2 categories into binary\n",
    "df1['[I130A]GenderBeneficiary'] = df1['[I130A]GenderBeneficiary'].map({'M': 0,'F': 1})\n",
    "df1['[I130]GenderPetitioner'] = df1['[I130]GenderPetitioner'].map({'M': 0,'F': 1})\n",
    "df1['[I485]CriminalityProvedConvictedType'] = df1['[I485]CriminalityProvedConvictedType'].map({'Minor Reasons': 0,'Major Reasons': 1})\n",
    "df1['[I130]PetitionerCitizenStatus'] = df1['[I130]PetitionerCitizenStatus'].map({'US Citizen': 0,'Lawful Permanent Resident': 1})\n",
    "df1['[I130]CurrentMaritalStatus'] = df1['[I130]CurrentMaritalStatus'].map({'Married': 0,'Separated': 1})\n",
    "df1['[I864]FederalTaxFiled'] = df1['[I864]FederalTaxFiled'].map({'Yes': 0,'No': 1})\n",
    "df1['[I485-130]SameEmployer'] = df1['[I485-130]SameEmployer'].map({'Yes': 0,'No': 1})\n",
    "df1['[I130]ImmigrationProceeding'] = df1['[I130]ImmigrationProceeding'].map({'Yes': 0,'No': 1})\n",
    "df1['[I485]CriminalityProvedConvicted'] = df1['[I485]CriminalityProvedConvicted'].map({'Yes': 0,'No': 1})\n",
    "df1['[I130]PreviousPetitionFiledPetitionerSameSpouse'] = df1['[I130]PreviousPetitionFiledPetitionerSameSpouse'].map({'Yes': 0,'No': 1})\n",
    "df1['[I130]PreviousPetitionFiledDifferentSpouse'] = df1['[I130]PreviousPetitionFiledDifferentSpouse'].map({'Yes': 0,'No': 1})\n",
    "df1['[I130A]BeneficiaryInUS'] = df1['[I130A]BeneficiaryInUS'].map({'Yes': 0,'No': 1})\n",
    "df1['[Calculated]FraudLikelihood'] = df1['[Calculated]FraudLikelihood'].map({'Yes': 0,'No': 1})"
   ]
  },
  {
   "cell_type": "code",
   "execution_count": 8,
   "metadata": {},
   "outputs": [],
   "source": [
    "df2= df1"
   ]
  },
  {
   "cell_type": "code",
   "execution_count": 9,
   "metadata": {},
   "outputs": [],
   "source": [
    "df1 = df1.drop(['[I130]PreviousMaritalStatusBeneficiary','[I130]PreviousPetitionFiledDifferentSpouseRejectionCondition','[I130A]BeneficiaryEthnicity','[I485]CriminalityProvedConvictedType','[CALCULATED]TotalYearsFromLastMarriagePetitioner','[CALCULATED]TotalYearsFromLastMarriageBeneficiary','[CALCULATED]DiffEntryDateAndMarriageDate'], axis=1)"
   ]
  },
  {
   "cell_type": "code",
   "execution_count": 10,
   "metadata": {},
   "outputs": [
    {
     "name": "stdout",
     "output_type": "stream",
     "text": [
      "[I130]PetitionerEthnicity\n",
      "[I130]PetitionerRace\n",
      "[I130]StayingTogetherStatus\n",
      "[I130]PreviousMaritalStatusPetitioner\n",
      "[I130]PreviousFiledPetitionerSameSpouseRejectionCondition\n",
      "[I864]FederalTaxFiledYears\n"
     ]
    }
   ],
   "source": [
    "col= ['[I130]PetitionerEthnicity','[I130]PetitionerRace','[I130]StayingTogetherStatus','[I130]PreviousMaritalStatusPetitioner',\n",
    "     '[I130]PreviousFiledPetitionerSameSpouseRejectionCondition','[I864]FederalTaxFiledYears']\n",
    "\n",
    "for i in col:\n",
    "    print(i)\n",
    "    one_hot = pd.get_dummies(df1[i])\n",
    "    df1 = df1.drop(i, axis = 1)\n",
    "    df1 = df1.join(one_hot)"
   ]
  },
  {
   "cell_type": "code",
   "execution_count": 11,
   "metadata": {},
   "outputs": [
    {
     "name": "stdout",
     "output_type": "stream",
     "text": [
      "<class 'pandas.core.frame.DataFrame'>\n",
      "RangeIndex: 750000 entries, 0 to 749999\n",
      "Data columns (total 42 columns):\n",
      " #   Column                                           Non-Null Count   Dtype\n",
      "---  ------                                           --------------   -----\n",
      " 0   [I130A]GenderBeneficiary                         750000 non-null  int64\n",
      " 1   [I130]PetitionerCitizenStatus                    750000 non-null  int64\n",
      " 2   [I130]CurrentMaritalStatus                       750000 non-null  int64\n",
      " 3   [I864]FederalTaxFiled                            750000 non-null  int64\n",
      " 4   [I485-130]SameEmployer                           750000 non-null  int64\n",
      " 5   [I130]ImmigrationProceeding                      750000 non-null  int64\n",
      " 6   [I485]CriminalityProvedConvicted                 750000 non-null  int64\n",
      " 7   [I130]PreviousPetitionFiledPetitionerSameSpouse  750000 non-null  int64\n",
      " 8   [I130]PreviousPetitionFiledDifferentSpouse       750000 non-null  int64\n",
      " 9   [I130A]BeneficiaryInUS                           750000 non-null  int64\n",
      " 10  [I130]GenderPetitioner                           750000 non-null  int64\n",
      " 11  [CALCULATED]AgeGapYears                          750000 non-null  int64\n",
      " 12  [I130]NumberOfMarriagesPetitioner                750000 non-null  int64\n",
      " 13  [I130]NumberOfMarriagesBeneficiary               750000 non-null  int64\n",
      " 14  [I864]NumberOfDependents                         750000 non-null  int64\n",
      " 15  [CALCULATED]FederalPovertyLineValue              750000 non-null  int64\n",
      " 16  [CALCULATED]TotalIncome                          750000 non-null  int64\n",
      " 17  [CALCULATED]LengthOfMarriage                     750000 non-null  int64\n",
      " 18  [CALCULATED]YearsSinceDateofEntry                750000 non-null  int64\n",
      " 19  [Calculated]FraudLikelihood                      750000 non-null  int64\n",
      " 20  Hispanic or Latino                               750000 non-null  uint8\n",
      " 21  Not Hispanic or Latino                           750000 non-null  uint8\n",
      " 22  Not Specified                                    750000 non-null  uint8\n",
      " 23  American Indian or Alaska Native                 750000 non-null  uint8\n",
      " 24  Asian                                            750000 non-null  uint8\n",
      " 25  Black or African Ammerican                       750000 non-null  uint8\n",
      " 26  Native Hawaiian or Other Pacific Islander        750000 non-null  uint8\n",
      " 27  White                                            750000 non-null  uint8\n",
      " 28  Different States                                 750000 non-null  uint8\n",
      " 29  Same House                                       750000 non-null  uint8\n",
      " 30  Same State - Different Address                   750000 non-null  uint8\n",
      " 31  Divorced                                         750000 non-null  uint8\n",
      " 32  Legally Separated                                750000 non-null  uint8\n",
      " 33  Marriage Anulled                                 750000 non-null  uint8\n",
      " 34  Married                                          750000 non-null  uint8\n",
      " 35  Single                                           750000 non-null  uint8\n",
      " 36  Widowed                                          750000 non-null  uint8\n",
      " 37  Major Reasons                                    750000 non-null  uint8\n",
      " 38  Minor Reasons                                    750000 non-null  uint8\n",
      " 39  Moderate Reasons                                 750000 non-null  uint8\n",
      " 40  3 or 3+ years                                    750000 non-null  uint8\n",
      " 41  Under 3 years                                    750000 non-null  uint8\n",
      "dtypes: int64(20), uint8(22)\n",
      "memory usage: 130.2 MB\n"
     ]
    }
   ],
   "source": [
    "df1.info()"
   ]
  },
  {
   "cell_type": "code",
   "execution_count": 12,
   "metadata": {},
   "outputs": [
    {
     "name": "stdout",
     "output_type": "stream",
     "text": [
      "(562500, 41)\n",
      "(562500,)\n",
      "(187500, 41)\n",
      "(187500,)\n"
     ]
    }
   ],
   "source": [
    "# Train Test Split\n",
    "\n",
    "Prediction = df1['[Calculated]FraudLikelihood']\n",
    "Features = df1.drop(columns = ['[Calculated]FraudLikelihood'])\n",
    "    \n",
    "X = Features\n",
    "Y = Prediction\n",
    "X_train, X_test, Y_train, Y_test = train_test_split(X, Y, test_size=0.25, random_state=0)\n",
    "X_train.shape,X_test.shape,Y_train.shape,Y_test.shape\n",
    "print(X_train.shape)\n",
    "print(Y_train.shape)\n",
    "print(X_test.shape)\n",
    "print(Y_test.shape)"
   ]
  },
  {
   "cell_type": "code",
   "execution_count": 13,
   "metadata": {},
   "outputs": [
    {
     "name": "stdout",
     "output_type": "stream",
     "text": [
      "              precision    recall  f1-score   support\n",
      "\n",
      "           0       0.88      0.68      0.77     78812\n",
      "           1       0.80      0.93      0.86    108688\n",
      "\n",
      "    accuracy                           0.83    187500\n",
      "   macro avg       0.84      0.81      0.81    187500\n",
      "weighted avg       0.83      0.83      0.82    187500\n",
      "\n",
      "Accuracy of the model\n",
      "0.8264\n"
     ]
    }
   ],
   "source": [
    "# Logistic Regresion\n",
    "model = LogisticRegression()\n",
    "# Model is learning relationship \n",
    "model.fit(X_train,Y_train)\n",
    "\n",
    "# Model to make test predictions\n",
    "y_pred = model.predict(X_test)\n",
    "\n",
    "\n",
    "print(classification_report(Y_test,y_pred))\n",
    "print('Accuracy of the model')\n",
    "print(accuracy_score(Y_test,y_pred))"
   ]
  },
  {
   "cell_type": "code",
   "execution_count": 16,
   "metadata": {},
   "outputs": [
    {
     "name": "stdout",
     "output_type": "stream",
     "text": [
      "              precision    recall  f1-score   support\n",
      "\n",
      "           0       1.00      0.99      1.00     78812\n",
      "           1       1.00      1.00      1.00    108688\n",
      "\n",
      "    accuracy                           1.00    187500\n",
      "   macro avg       1.00      1.00      1.00    187500\n",
      "weighted avg       1.00      1.00      1.00    187500\n",
      "\n",
      "Accuracy of the model\n",
      "0.996\n"
     ]
    }
   ],
   "source": [
    "#Random Forest \n",
    "mode2 = RandomForestClassifier()\n",
    "mode2.fit(X_train,Y_train)\n",
    "y_pred_random = mode2.predict(X_test)\n",
    "\n",
    "print(classification_report(Y_test,y_pred_random))\n",
    "print('Accuracy of the model')\n",
    "print(accuracy_score(Y_test,y_pred_random))"
   ]
  },
  {
   "cell_type": "code",
   "execution_count": 20,
   "metadata": {},
   "outputs": [],
   "source": [
    "import numpy as np\n",
    "def importantFeatures(X_train, rf):\n",
    "    names = list(X_train.columns)\n",
    "    importances = rf.feature_importances_\n",
    "    indices = np.argsort(importances)[::-1]\n",
    "    new_indices = indices[:20]\n",
    "    features = X_train.columns[indices]\n",
    "    indices = rf.feature_importances_[indices]\n",
    "    f1 = features\n",
    "    i1 = indices\n",
    "    features = list(features[:20])\n",
    "    indices = list(indices[:20])\n",
    "    return features, indices, f1, i1"
   ]
  },
  {
   "cell_type": "code",
   "execution_count": 41,
   "metadata": {},
   "outputs": [],
   "source": [
    "def featurePlot(features, indices, X_train, X_test, Y_train, Y_test):\n",
    "    acc = []\n",
    "    for i in range(1, 25):\n",
    "        x = X_train[features[:i]]\n",
    "        R = RandomForestClassifier()\n",
    "        R.fit(x, Y_train)\n",
    "        xtest = X_test[features[:i]]\n",
    "        y_pred = R.predict(xtest)\n",
    "        acc1 = accuracy_score(y_pred, Y_test)\n",
    "        print(features[:i])\n",
    "        print(acc1)\n",
    "        acc.append(acc1)\n",
    "    return acc"
   ]
  },
  {
   "cell_type": "code",
   "execution_count": 39,
   "metadata": {},
   "outputs": [],
   "source": [
    "from matplotlib.pyplot import figure\n",
    "import matplotlib.pyplot as plt\n",
    "def plotFeatureImportance(features, indices):\n",
    "    figure(figsize=(8, 6), dpi=80)\n",
    "    x1 = [i for i in features[::-1]]\n",
    "    x2 = [i for i in indices[::-1]]\n",
    "    plt.barh(x1, x2, align = 'center')\n",
    "    #plt.yticks(range(n), [features[i] for i in indices[-n:]])\n",
    "    #plt.xticks([0, 0.0025, 0.005, 0.0075, 0.01, 0.0125, 0.015, 0.0175, 0.02, 0.0225, 0.025])\n",
    "    plt.xlabel('Relative Importance')\n",
    "    plt.ylabel('Features')\n",
    "    plt.title('Feature Importance plot on Dataset 1')"
   ]
  },
  {
   "cell_type": "code",
   "execution_count": 37,
   "metadata": {},
   "outputs": [
    {
     "name": "stdout",
     "output_type": "stream",
     "text": [
      "['Same House', '[I130A]BeneficiaryInUS', '[CALCULATED]AgeGapYears', '[I864]NumberOfDependents', '3 or 3+ years', '[CALCULATED]TotalIncome', '[CALCULATED]LengthOfMarriage', '[CALCULATED]FederalPovertyLineValue', '[I130]CurrentMaritalStatus', 'Under 3 years', 'Different States', '[I485]CriminalityProvedConvicted', '[I130]ImmigrationProceeding', 'Same State - Different Address', '[I485-130]SameEmployer', '[I864]FederalTaxFiled', '[I130]NumberOfMarriagesBeneficiary', '[I130]NumberOfMarriagesPetitioner', '[CALCULATED]YearsSinceDateofEntry', '[I130]PreviousPetitionFiledDifferentSpouse']\n",
      "[0.1219935215715355, 0.11314796404773, 0.1024625573642258, 0.09683347594284014, 0.08479901248512607, 0.0785303661358505, 0.07832050270640631, 0.0721350205691336, 0.037155140165821894, 0.03686212372083499, 0.03559983290920214, 0.02828361502402018, 0.025204524044739406, 0.021058346365126428, 0.01340809632079868, 0.008860902064123363, 0.008673664682289037, 0.00807849289837469, 0.007751579867234662, 0.006462622433544143]\n"
     ]
    },
    {
     "data": {
      "image/png": "[encoded data removed]",
      "text/plain": [
       "<Figure size 640x480 with 1 Axes>"
      ]
     },
     "metadata": {
      "needs_background": "light"
     },
     "output_type": "display_data"
    }
   ],
   "source": [
    "features, indices, f1, i1 = importantFeatures(X_train, mode2)\n",
    "plotFeatureImportance(features, indices)\n"
   ]
  },
  {
   "cell_type": "code",
   "execution_count": 50,
   "metadata": {},
   "outputs": [
    {
     "name": "stdout",
     "output_type": "stream",
     "text": [
      "Index(['Same House'], dtype='object')\n",
      "0.7483306666666667\n",
      "Index(['Same House', '[I130A]BeneficiaryInUS'], dtype='object')\n",
      "0.8034613333333334\n",
      "Index(['Same House', '[I130A]BeneficiaryInUS', '[CALCULATED]AgeGapYears'], dtype='object')\n",
      "0.8745226666666667\n",
      "Index(['Same House', '[I130A]BeneficiaryInUS', '[CALCULATED]AgeGapYears',\n",
      "       '[I864]NumberOfDependents'],\n",
      "      dtype='object')\n",
      "0.891024\n",
      "Index(['Same House', '[I130A]BeneficiaryInUS', '[CALCULATED]AgeGapYears',\n",
      "       '[I864]NumberOfDependents', '3 or 3+ years'],\n",
      "      dtype='object')\n",
      "0.9308266666666667\n",
      "Index(['Same House', '[I130A]BeneficiaryInUS', '[CALCULATED]AgeGapYears',\n",
      "       '[I864]NumberOfDependents', '3 or 3+ years', '[CALCULATED]TotalIncome'],\n",
      "      dtype='object')\n",
      "0.927456\n",
      "Index(['Same House', '[I130A]BeneficiaryInUS', '[CALCULATED]AgeGapYears',\n",
      "       '[I864]NumberOfDependents', '3 or 3+ years', '[CALCULATED]TotalIncome',\n",
      "       '[CALCULATED]LengthOfMarriage'],\n",
      "      dtype='object')\n",
      "0.9485653333333334\n",
      "Index(['Same House', '[I130A]BeneficiaryInUS', '[CALCULATED]AgeGapYears',\n",
      "       '[I864]NumberOfDependents', '3 or 3+ years', '[CALCULATED]TotalIncome',\n",
      "       '[CALCULATED]LengthOfMarriage', '[CALCULATED]FederalPovertyLineValue'],\n",
      "      dtype='object')\n",
      "0.9502506666666667\n",
      "Index(['Same House', '[I130A]BeneficiaryInUS', '[CALCULATED]AgeGapYears',\n",
      "       '[I864]NumberOfDependents', '3 or 3+ years', '[CALCULATED]TotalIncome',\n",
      "       '[CALCULATED]LengthOfMarriage', '[CALCULATED]FederalPovertyLineValue',\n",
      "       '[I130]CurrentMaritalStatus'],\n",
      "      dtype='object')\n",
      "0.9649546666666666\n",
      "Index(['Same House', '[I130A]BeneficiaryInUS', '[CALCULATED]AgeGapYears',\n",
      "       '[I864]NumberOfDependents', '3 or 3+ years', '[CALCULATED]TotalIncome',\n",
      "       '[CALCULATED]LengthOfMarriage', '[CALCULATED]FederalPovertyLineValue',\n",
      "       '[I130]CurrentMaritalStatus', 'Under 3 years'],\n",
      "      dtype='object')\n",
      "0.9649706666666666\n",
      "Index(['Same House', '[I130A]BeneficiaryInUS', '[CALCULATED]AgeGapYears',\n",
      "       '[I864]NumberOfDependents', '3 or 3+ years', '[CALCULATED]TotalIncome',\n",
      "       '[CALCULATED]LengthOfMarriage', '[CALCULATED]FederalPovertyLineValue',\n",
      "       '[I130]CurrentMaritalStatus', 'Under 3 years', 'Different States'],\n",
      "      dtype='object')\n",
      "0.9649493333333333\n",
      "Index(['Same House', '[I130A]BeneficiaryInUS', '[CALCULATED]AgeGapYears',\n",
      "       '[I864]NumberOfDependents', '3 or 3+ years', '[CALCULATED]TotalIncome',\n",
      "       '[CALCULATED]LengthOfMarriage', '[CALCULATED]FederalPovertyLineValue',\n",
      "       '[I130]CurrentMaritalStatus', 'Under 3 years', 'Different States',\n",
      "       '[I485]CriminalityProvedConvicted'],\n",
      "      dtype='object')\n",
      "0.9779786666666667\n",
      "Index(['Same House', '[I130A]BeneficiaryInUS', '[CALCULATED]AgeGapYears',\n",
      "       '[I864]NumberOfDependents', '3 or 3+ years', '[CALCULATED]TotalIncome',\n",
      "       '[CALCULATED]LengthOfMarriage', '[CALCULATED]FederalPovertyLineValue',\n",
      "       '[I130]CurrentMaritalStatus', 'Under 3 years', 'Different States',\n",
      "       '[I485]CriminalityProvedConvicted', '[I130]ImmigrationProceeding'],\n",
      "      dtype='object')\n",
      "0.989472\n",
      "Index(['Same House', '[I130A]BeneficiaryInUS', '[CALCULATED]AgeGapYears',\n",
      "       '[I864]NumberOfDependents', '3 or 3+ years', '[CALCULATED]TotalIncome',\n",
      "       '[CALCULATED]LengthOfMarriage', '[CALCULATED]FederalPovertyLineValue',\n",
      "       '[I130]CurrentMaritalStatus', 'Under 3 years', 'Different States',\n",
      "       '[I485]CriminalityProvedConvicted', '[I130]ImmigrationProceeding',\n",
      "       'Same State - Different Address'],\n",
      "      dtype='object')\n",
      "0.9894293333333334\n",
      "Index(['Same House', '[I130A]BeneficiaryInUS', '[CALCULATED]AgeGapYears',\n",
      "       '[I864]NumberOfDependents', '3 or 3+ years', '[CALCULATED]TotalIncome',\n",
      "       '[CALCULATED]LengthOfMarriage', '[CALCULATED]FederalPovertyLineValue',\n",
      "       '[I130]CurrentMaritalStatus', 'Under 3 years', 'Different States',\n",
      "       '[I485]CriminalityProvedConvicted', '[I130]ImmigrationProceeding',\n",
      "       'Same State - Different Address', '[I485-130]SameEmployer'],\n",
      "      dtype='object')\n",
      "0.9918293333333333\n",
      "Index(['Same House', '[I130A]BeneficiaryInUS', '[CALCULATED]AgeGapYears',\n",
      "       '[I864]NumberOfDependents', '3 or 3+ years', '[CALCULATED]TotalIncome',\n",
      "       '[CALCULATED]LengthOfMarriage', '[CALCULATED]FederalPovertyLineValue',\n",
      "       '[I130]CurrentMaritalStatus', 'Under 3 years', 'Different States',\n",
      "       '[I485]CriminalityProvedConvicted', '[I130]ImmigrationProceeding',\n",
      "       'Same State - Different Address', '[I485-130]SameEmployer',\n",
      "       '[I864]FederalTaxFiled'],\n",
      "      dtype='object')\n",
      "0.991904\n",
      "Index(['Same House', '[I130A]BeneficiaryInUS', '[CALCULATED]AgeGapYears',\n",
      "       '[I864]NumberOfDependents', '3 or 3+ years', '[CALCULATED]TotalIncome',\n",
      "       '[CALCULATED]LengthOfMarriage', '[CALCULATED]FederalPovertyLineValue',\n",
      "       '[I130]CurrentMaritalStatus', 'Under 3 years', 'Different States',\n",
      "       '[I485]CriminalityProvedConvicted', '[I130]ImmigrationProceeding',\n",
      "       'Same State - Different Address', '[I485-130]SameEmployer',\n",
      "       '[I864]FederalTaxFiled', '[I130]NumberOfMarriagesBeneficiary'],\n",
      "      dtype='object')\n",
      "0.9927413333333334\n",
      "Index(['Same House', '[I130A]BeneficiaryInUS', '[CALCULATED]AgeGapYears',\n",
      "       '[I864]NumberOfDependents', '3 or 3+ years', '[CALCULATED]TotalIncome',\n",
      "       '[CALCULATED]LengthOfMarriage', '[CALCULATED]FederalPovertyLineValue',\n",
      "       '[I130]CurrentMaritalStatus', 'Under 3 years', 'Different States',\n",
      "       '[I485]CriminalityProvedConvicted', '[I130]ImmigrationProceeding',\n",
      "       'Same State - Different Address', '[I485-130]SameEmployer',\n",
      "       '[I864]FederalTaxFiled', '[I130]NumberOfMarriagesBeneficiary',\n",
      "       '[I130]NumberOfMarriagesPetitioner'],\n",
      "      dtype='object')\n",
      "0.9937226666666666\n",
      "Index(['Same House', '[I130A]BeneficiaryInUS', '[CALCULATED]AgeGapYears',\n",
      "       '[I864]NumberOfDependents', '3 or 3+ years', '[CALCULATED]TotalIncome',\n",
      "       '[CALCULATED]LengthOfMarriage', '[CALCULATED]FederalPovertyLineValue',\n",
      "       '[I130]CurrentMaritalStatus', 'Under 3 years', 'Different States',\n",
      "       '[I485]CriminalityProvedConvicted', '[I130]ImmigrationProceeding',\n",
      "       'Same State - Different Address', '[I485-130]SameEmployer',\n",
      "       '[I864]FederalTaxFiled', '[I130]NumberOfMarriagesBeneficiary',\n",
      "       '[I130]NumberOfMarriagesPetitioner',\n",
      "       '[CALCULATED]YearsSinceDateofEntry'],\n",
      "      dtype='object')\n",
      "0.994816\n",
      "Index(['Same House', '[I130A]BeneficiaryInUS', '[CALCULATED]AgeGapYears',\n",
      "       '[I864]NumberOfDependents', '3 or 3+ years', '[CALCULATED]TotalIncome',\n",
      "       '[CALCULATED]LengthOfMarriage', '[CALCULATED]FederalPovertyLineValue',\n",
      "       '[I130]CurrentMaritalStatus', 'Under 3 years', 'Different States',\n",
      "       '[I485]CriminalityProvedConvicted', '[I130]ImmigrationProceeding',\n",
      "       'Same State - Different Address', '[I485-130]SameEmployer',\n",
      "       '[I864]FederalTaxFiled', '[I130]NumberOfMarriagesBeneficiary',\n",
      "       '[I130]NumberOfMarriagesPetitioner',\n",
      "       '[CALCULATED]YearsSinceDateofEntry',\n",
      "       '[I130]PreviousPetitionFiledDifferentSpouse'],\n",
      "      dtype='object')\n",
      "0.9953013333333334\n",
      "Index(['Same House', '[I130A]BeneficiaryInUS', '[CALCULATED]AgeGapYears',\n",
      "       '[I864]NumberOfDependents', '3 or 3+ years', '[CALCULATED]TotalIncome',\n",
      "       '[CALCULATED]LengthOfMarriage', '[CALCULATED]FederalPovertyLineValue',\n",
      "       '[I130]CurrentMaritalStatus', 'Under 3 years', 'Different States',\n",
      "       '[I485]CriminalityProvedConvicted', '[I130]ImmigrationProceeding',\n",
      "       'Same State - Different Address', '[I485-130]SameEmployer',\n",
      "       '[I864]FederalTaxFiled', '[I130]NumberOfMarriagesBeneficiary',\n",
      "       '[I130]NumberOfMarriagesPetitioner',\n",
      "       '[CALCULATED]YearsSinceDateofEntry',\n",
      "       '[I130]PreviousPetitionFiledDifferentSpouse',\n",
      "       '[I130]PreviousPetitionFiledPetitionerSameSpouse'],\n",
      "      dtype='object')\n",
      "0.9955146666666667\n",
      "Index(['Same House', '[I130A]BeneficiaryInUS', '[CALCULATED]AgeGapYears',\n",
      "       '[I864]NumberOfDependents', '3 or 3+ years', '[CALCULATED]TotalIncome',\n",
      "       '[CALCULATED]LengthOfMarriage', '[CALCULATED]FederalPovertyLineValue',\n",
      "       '[I130]CurrentMaritalStatus', 'Under 3 years', 'Different States',\n",
      "       '[I485]CriminalityProvedConvicted', '[I130]ImmigrationProceeding',\n",
      "       'Same State - Different Address', '[I485-130]SameEmployer',\n",
      "       '[I864]FederalTaxFiled', '[I130]NumberOfMarriagesBeneficiary',\n",
      "       '[I130]NumberOfMarriagesPetitioner',\n",
      "       '[CALCULATED]YearsSinceDateofEntry',\n",
      "       '[I130]PreviousPetitionFiledDifferentSpouse',\n",
      "       '[I130]PreviousPetitionFiledPetitionerSameSpouse', 'Single'],\n",
      "      dtype='object')\n",
      "0.995616\n",
      "Index(['Same House', '[I130A]BeneficiaryInUS', '[CALCULATED]AgeGapYears',\n",
      "       '[I864]NumberOfDependents', '3 or 3+ years', '[CALCULATED]TotalIncome',\n",
      "       '[CALCULATED]LengthOfMarriage', '[CALCULATED]FederalPovertyLineValue',\n",
      "       '[I130]CurrentMaritalStatus', 'Under 3 years', 'Different States',\n",
      "       '[I485]CriminalityProvedConvicted', '[I130]ImmigrationProceeding',\n",
      "       'Same State - Different Address', '[I485-130]SameEmployer',\n",
      "       '[I864]FederalTaxFiled', '[I130]NumberOfMarriagesBeneficiary',\n",
      "       '[I130]NumberOfMarriagesPetitioner',\n",
      "       '[CALCULATED]YearsSinceDateofEntry',\n",
      "       '[I130]PreviousPetitionFiledDifferentSpouse',\n",
      "       '[I130]PreviousPetitionFiledPetitionerSameSpouse', 'Single',\n",
      "       'Divorced'],\n",
      "      dtype='object')\n",
      "0.9956426666666667\n",
      "Index(['Same House', '[I130A]BeneficiaryInUS', '[CALCULATED]AgeGapYears',\n",
      "       '[I864]NumberOfDependents', '3 or 3+ years', '[CALCULATED]TotalIncome',\n",
      "       '[CALCULATED]LengthOfMarriage', '[CALCULATED]FederalPovertyLineValue',\n",
      "       '[I130]CurrentMaritalStatus', 'Under 3 years', 'Different States',\n",
      "       '[I485]CriminalityProvedConvicted', '[I130]ImmigrationProceeding',\n",
      "       'Same State - Different Address', '[I485-130]SameEmployer',\n",
      "       '[I864]FederalTaxFiled', '[I130]NumberOfMarriagesBeneficiary',\n",
      "       '[I130]NumberOfMarriagesPetitioner',\n",
      "       '[CALCULATED]YearsSinceDateofEntry',\n",
      "       '[I130]PreviousPetitionFiledDifferentSpouse',\n",
      "       '[I130]PreviousPetitionFiledPetitionerSameSpouse', 'Single', 'Divorced',\n",
      "       'Moderate Reasons'],\n",
      "      dtype='object')\n",
      "0.9956746666666667\n"
     ]
    }
   ],
   "source": [
    "acc = featurePlot(f1, i1,  X_train, X_test, Y_train, Y_test)"
   ]
  },
  {
   "cell_type": "code",
   "execution_count": 52,
   "metadata": {},
   "outputs": [
    {
     "data": {
      "text/plain": [
       "Text(0, 0.5, 'Accuracy Obtained')"
      ]
     },
     "execution_count": 52,
     "metadata": {},
     "output_type": "execute_result"
    },
    {
     "data": {
      "image/png": "[encoded data removed]",
      "text/plain": [
       "<Figure size 432x288 with 1 Axes>"
      ]
     },
     "metadata": {
      "needs_background": "light"
     },
     "output_type": "display_data"
    }
   ],
   "source": [
    "plt.plot(list(range(0, 24)), acc)\n",
    "plt.xticks([2,4,6,8,10,12,14,16,18,20])\n",
    "# plt.yticks([0.05, 0.1, 0.15, 0.2, 0.25, 0.3, 0.35, 0.4, 0.45, 0.5, 0.55, 0.6])\n",
    "plt.xlabel('Number of Top Features Selected')\n",
    "plt.ylabel('Accuracy Obtained')"
   ]
  },
  {
   "cell_type": "code",
   "execution_count": 13,
   "metadata": {},
   "outputs": [],
   "source": [
    "############### KNN\n",
    "def knn_neighbors(i,X_train, Y_train, X_test, Y_test):\n",
    "    model_knn = KNeighborsClassifier(n_neighbors = i)\n",
    "    model_knn.fit(X_train, Y_train)\n",
    "    y_pred =model_knn.predict(X_test)\n",
    "    return accuracy_score(Y_test, y_pred)"
   ]
  },
  {
   "cell_type": "code",
   "execution_count": 14,
   "metadata": {},
   "outputs": [],
   "source": [
    "acc_knn = []\n",
    "for i in range(1,10):\n",
    "    acc_knn.append(knn_neighbors(i,X_train, Y_train, X_test, Y_test))"
   ]
  },
  {
   "cell_type": "code",
   "execution_count": 16,
   "metadata": {},
   "outputs": [
    {
     "data": {
      "text/plain": [
       "Text(0, 0.5, 'Accuracy Obtained')"
      ]
     },
     "execution_count": 16,
     "metadata": {},
     "output_type": "execute_result"
    },
    {
     "data": {
      "image/png": "[encoded data removed]",
      "text/plain": [
       "<Figure size 432x288 with 1 Axes>"
      ]
     },
     "metadata": {
      "needs_background": "light"
     },
     "output_type": "display_data"
    }
   ],
   "source": [
    "import matplotlib.pyplot as plt\n",
    "plt.plot(list(range(1,10)), acc_knn)\n",
    "plt.xlabel('Number of neigbhours')\n",
    "plt.ylabel('Accuracy Obtained')"
   ]
  },
  {
   "cell_type": "code",
   "execution_count": null,
   "metadata": {},
   "outputs": [],
   "source": [
    "#features\n",
    "def main():\n",
    "    X_train, X_test, Y_train, Y_test = readTestFiles()\n",
    "    \n",
    "    return features, indices, acc"
   ]
  },
  {
   "cell_type": "code",
   "execution_count": 33,
   "metadata": {},
   "outputs": [
    {
     "name": "stdout",
     "output_type": "stream",
     "text": [
      "              precision    recall  f1-score   support\n",
      "\n",
      "           0       0.85      0.62      0.71     78812\n",
      "           1       0.77      0.92      0.84    108688\n",
      "\n",
      "    accuracy                           0.79    187500\n",
      "   macro avg       0.81      0.77      0.78    187500\n",
      "weighted avg       0.80      0.79      0.79    187500\n",
      "\n",
      "Accuracy of the model\n",
      "0.7929813333333333\n"
     ]
    }
   ],
   "source": [
    "from sklearn.neighbors import KNeighborsClassifier\n",
    "model3 = KNeighborsClassifier()\n",
    "# Model is learning relationship \n",
    "model3.fit(X_train,Y_train)\n",
    "\n",
    "# Model to make test predictions\n",
    "y_pred = model3.predict(X_test)\n",
    "\n",
    "\n",
    "print(classification_report(Y_test,y_pred))\n",
    "print('Accuracy of the model')\n",
    "print(accuracy_score(Y_test,y_pred))\n"
   ]
  },
  {
   "cell_type": "code",
   "execution_count": 35,
   "metadata": {},
   "outputs": [
    {
     "name": "stdout",
     "output_type": "stream",
     "text": [
      "              precision    recall  f1-score   support\n",
      "\n",
      "           0       0.94      0.54      0.68     78812\n",
      "           1       0.74      0.98      0.84    108688\n",
      "\n",
      "    accuracy                           0.79    187500\n",
      "   macro avg       0.84      0.76      0.76    187500\n",
      "weighted avg       0.83      0.79      0.78    187500\n",
      "\n",
      "Accuracy of the model\n",
      "0.7917013333333334\n"
     ]
    }
   ],
   "source": [
    "from sklearn.naive_bayes import GaussianNB\n",
    "mode4 = GaussianNB()\n",
    "# Model is learning relationship \n",
    "mode4.fit(X_train,Y_train)\n",
    "\n",
    "# Model to make test predictions\n",
    "y_pred = mode4.predict(X_test)\n",
    "\n",
    "\n",
    "print(classification_report(Y_test,y_pred))\n",
    "print('Accuracy of the model')\n",
    "print(accuracy_score(Y_test,y_pred))"
   ]
  },
  {
   "cell_type": "code",
   "execution_count": 36,
   "metadata": {},
   "outputs": [
    {
     "name": "stdout",
     "output_type": "stream",
     "text": [
      "              precision    recall  f1-score   support\n",
      "\n",
      "           0       0.99      0.99      0.99     78812\n",
      "           1       0.99      0.99      0.99    108688\n",
      "\n",
      "    accuracy                           0.99    187500\n",
      "   macro avg       0.99      0.99      0.99    187500\n",
      "weighted avg       0.99      0.99      0.99    187500\n",
      "\n",
      "Accuracy of the model\n",
      "0.9940426666666666\n"
     ]
    }
   ],
   "source": [
    "# Decision Tree classifier\n",
    "from sklearn.tree import DecisionTreeClassifier\n",
    "\n",
    "model5 = DecisionTreeClassifier()\n",
    "model5.fit(X_train,Y_train)\n",
    "y_pred_knn = model5.predict(X_test)\n",
    "\n",
    "print(classification_report(Y_test,y_pred_knn))\n",
    "print('Accuracy of the model')\n",
    "print(accuracy_score(Y_test,y_pred_knn))"
   ]
  },
  {
   "cell_type": "code",
   "execution_count": null,
   "metadata": {},
   "outputs": [],
   "source": [
    "\n"
   ]
  }
 ],
 "metadata": {
  "kernelspec": {
   "display_name": "Python 3 (ipykernel)",
   "language": "python",
   "name": "python3"
  },
  "language_info": {
   "codemirror_mode": {
    "name": "ipython",
    "version": 3
   },
   "file_extension": ".py",
   "mimetype": "text/x-python",
   "name": "python",
   "nbconvert_exporter": "python",
   "pygments_lexer": "ipython3",
   "version": "3.8.5"
  }
 },
 "nbformat": 4,
 "nbformat_minor": 4
}
