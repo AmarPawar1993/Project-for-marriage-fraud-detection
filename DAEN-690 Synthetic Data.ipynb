{
 "cells": [
  {
   "cell_type": "code",
   "execution_count": 3,
   "metadata": {},
   "outputs": [],
   "source": [
    "import pandas as pd\n",
    "import numpy as np\n",
    "import os\n",
    "import random\n",
    "import matplotlib.pyplot as plt\n",
    "import pickle\n",
    "import time"
   ]
  },
  {
   "cell_type": "code",
   "execution_count": 4,
   "metadata": {},
   "outputs": [],
   "source": [
    "from faker import Faker\n",
    "fake = Faker()"
   ]
  },
  {
   "cell_type": "markdown",
   "metadata": {},
   "source": [
    "Synthetic Data Generation "
   ]
  },
  {
   "cell_type": "code",
   "execution_count": 17,
   "metadata": {},
   "outputs": [
    {
     "ename": "SyntaxError",
     "evalue": "invalid syntax (<ipython-input-17-4aa4e050e7fc>, line 15)",
     "output_type": "error",
     "traceback": [
      "\u001b[0;36m  File \u001b[0;32m\"<ipython-input-17-4aa4e050e7fc>\"\u001b[0;36m, line \u001b[0;32m15\u001b[0m\n\u001b[0;31m    delta = datetime.timedelta(days=365*randint(18,40))\u001b[0m\n\u001b[0m          ^\u001b[0m\n\u001b[0;31mSyntaxError\u001b[0m\u001b[0;31m:\u001b[0m invalid syntax\n"
     ]
    }
   ],
   "source": [
    "def faker_timeseries_rows(num=1, seed=None):\n",
    "    \"\"\"\n",
    "    \"\"\"\n",
    "    fake.seed_instance(seed)\n",
    "\n",
    "    time_gen = fake.time_series(start_date=f\"-{num}d\", end_date=\"now\", precision=3600)\n",
    "\n",
    "    output = [\n",
    "        {\n",
    "            \n",
    "            \"name\": fake.last_name(),\n",
    "            \"email\": fake.free_email(),\n",
    "            \"country\": fake.country(),\n",
    "            \"Entry_Date\": fake.date_between(start_date= \"-19y\" , end_date=\"now\"),\n",
    "             delta = datetime.timedelta(days=365*randint(18,40))\n",
    "             bd = Entry_Date -delta\n",
    "             \"Birth_Date\": bd,   \n",
    "    \n",
    "        }\n",
    "        for x in range(num)\n",
    "    ]\n",
    "    return output"
   ]
  },
  {
   "cell_type": "code",
   "execution_count": 19,
   "metadata": {},
   "outputs": [
    {
     "ename": "IndentationError",
     "evalue": "unindent does not match any outer indentation level (<tokenize>, line 6)",
     "output_type": "error",
     "traceback": [
      "\u001b[0;36m  File \u001b[0;32m\"<tokenize>\"\u001b[0;36m, line \u001b[0;32m6\u001b[0m\n\u001b[0;31m    return {'birth_date':bd, 'start_date': sd}\u001b[0m\n\u001b[0m    ^\u001b[0m\n\u001b[0;31mIndentationError\u001b[0m\u001b[0;31m:\u001b[0m unindent does not match any outer indentation level\n"
     ]
    }
   ],
   "source": [
    "   def birth_and_start_date():\n",
    "            sd = fake.date_between(start_date=\"-20y\", end_date=\"now\")\n",
    "            delta = datetime.timedelta(days=365*randint(18,40))\n",
    "            bd = sd-delta\n",
    "\n",
    "       return {'birth_date':bd, 'start_date': sd}"
   ]
  },
  {
   "cell_type": "code",
   "execution_count": 15,
   "metadata": {},
   "outputs": [
    {
     "data": {
      "text/html": [
       "<div>\n",
       "<style scoped>\n",
       "    .dataframe tbody tr th:only-of-type {\n",
       "        vertical-align: middle;\n",
       "    }\n",
       "\n",
       "    .dataframe tbody tr th {\n",
       "        vertical-align: top;\n",
       "    }\n",
       "\n",
       "    .dataframe thead th {\n",
       "        text-align: right;\n",
       "    }\n",
       "</style>\n",
       "<table border=\"1\" class=\"dataframe\">\n",
       "  <thead>\n",
       "    <tr style=\"text-align: right;\">\n",
       "      <th></th>\n",
       "      <th>Birth_Date</th>\n",
       "      <th>name</th>\n",
       "      <th>email</th>\n",
       "      <th>country</th>\n",
       "      <th>Entry_Date</th>\n",
       "    </tr>\n",
       "  </thead>\n",
       "  <tbody>\n",
       "    <tr>\n",
       "      <th>0</th>\n",
       "      <td>2014-10-24</td>\n",
       "      <td>Chang</td>\n",
       "      <td>gwilliams@yahoo.com</td>\n",
       "      <td>Iraq</td>\n",
       "      <td>2013-01-09</td>\n",
       "    </tr>\n",
       "    <tr>\n",
       "      <th>1</th>\n",
       "      <td>2017-12-02</td>\n",
       "      <td>Howard</td>\n",
       "      <td>williamcampbell@gmail.com</td>\n",
       "      <td>Nicaragua</td>\n",
       "      <td>2011-03-25</td>\n",
       "    </tr>\n",
       "    <tr>\n",
       "      <th>2</th>\n",
       "      <td>2019-10-29</td>\n",
       "      <td>Mcgrath</td>\n",
       "      <td>kyleblair@hotmail.com</td>\n",
       "      <td>Greenland</td>\n",
       "      <td>2018-10-08</td>\n",
       "    </tr>\n",
       "    <tr>\n",
       "      <th>3</th>\n",
       "      <td>2020-10-02</td>\n",
       "      <td>Garcia</td>\n",
       "      <td>ostewart@gmail.com</td>\n",
       "      <td>Mexico</td>\n",
       "      <td>2018-12-08</td>\n",
       "    </tr>\n",
       "    <tr>\n",
       "      <th>4</th>\n",
       "      <td>2016-10-07</td>\n",
       "      <td>Grimes</td>\n",
       "      <td>bryan80@gmail.com</td>\n",
       "      <td>Saint Helena</td>\n",
       "      <td>2016-04-10</td>\n",
       "    </tr>\n",
       "    <tr>\n",
       "      <th>5</th>\n",
       "      <td>2001-09-29</td>\n",
       "      <td>Salazar</td>\n",
       "      <td>john51@gmail.com</td>\n",
       "      <td>United States Virgin Islands</td>\n",
       "      <td>2010-04-01</td>\n",
       "    </tr>\n",
       "    <tr>\n",
       "      <th>6</th>\n",
       "      <td>2009-10-28</td>\n",
       "      <td>Pratt</td>\n",
       "      <td>lindawest@gmail.com</td>\n",
       "      <td>Ghana</td>\n",
       "      <td>2019-12-27</td>\n",
       "    </tr>\n",
       "    <tr>\n",
       "      <th>7</th>\n",
       "      <td>2018-05-09</td>\n",
       "      <td>Rodriguez</td>\n",
       "      <td>jasmine85@hotmail.com</td>\n",
       "      <td>Costa Rica</td>\n",
       "      <td>2021-04-28</td>\n",
       "    </tr>\n",
       "    <tr>\n",
       "      <th>8</th>\n",
       "      <td>2021-09-12</td>\n",
       "      <td>Roberts</td>\n",
       "      <td>carlsonpaul@hotmail.com</td>\n",
       "      <td>Dominican Republic</td>\n",
       "      <td>2012-08-01</td>\n",
       "    </tr>\n",
       "    <tr>\n",
       "      <th>9</th>\n",
       "      <td>2007-12-18</td>\n",
       "      <td>Lopez</td>\n",
       "      <td>antoniozavala@yahoo.com</td>\n",
       "      <td>Lebanon</td>\n",
       "      <td>2005-01-20</td>\n",
       "    </tr>\n",
       "  </tbody>\n",
       "</table>\n",
       "</div>"
      ],
      "text/plain": [
       "   Birth_Date       name                      email  \\\n",
       "0  2014-10-24      Chang        gwilliams@yahoo.com   \n",
       "1  2017-12-02     Howard  williamcampbell@gmail.com   \n",
       "2  2019-10-29    Mcgrath      kyleblair@hotmail.com   \n",
       "3  2020-10-02     Garcia         ostewart@gmail.com   \n",
       "4  2016-10-07     Grimes          bryan80@gmail.com   \n",
       "5  2001-09-29    Salazar           john51@gmail.com   \n",
       "6  2009-10-28      Pratt        lindawest@gmail.com   \n",
       "7  2018-05-09  Rodriguez      jasmine85@hotmail.com   \n",
       "8  2021-09-12    Roberts    carlsonpaul@hotmail.com   \n",
       "9  2007-12-18      Lopez    antoniozavala@yahoo.com   \n",
       "\n",
       "                        country  Entry_Date  \n",
       "0                          Iraq  2013-01-09  \n",
       "1                     Nicaragua  2011-03-25  \n",
       "2                     Greenland  2018-10-08  \n",
       "3                        Mexico  2018-12-08  \n",
       "4                  Saint Helena  2016-04-10  \n",
       "5  United States Virgin Islands  2010-04-01  \n",
       "6                         Ghana  2019-12-27  \n",
       "7                    Costa Rica  2021-04-28  \n",
       "8            Dominican Republic  2012-08-01  \n",
       "9                       Lebanon  2005-01-20  "
      ]
     },
     "execution_count": 15,
     "metadata": {},
     "output_type": "execute_result"
    }
   ],
   "source": [
    "df = pd.DataFrame(faker_timeseries_rows(10, seed=0))\n",
    "df.head(15)\n"
   ]
  },
  {
   "cell_type": "markdown",
   "metadata": {},
   "source": [
    "CATEGORICAL DATA"
   ]
  },
  {
   "cell_type": "code",
   "execution_count": 11,
   "metadata": {},
   "outputs": [],
   "source": [
    "def faker_categorical(num=1, seed=None):\n",
    "    \"\"\"\n",
    "    \"\"\"\n",
    "    np.random.seed(seed)\n",
    "    fake.seed_instance(seed)\n",
    "\n",
    "    output = [\n",
    "        {\n",
    "            \"name\": fake.last_name(),\n",
    "            \"email\": fake.free_email(),\n",
    "            \"country\": np.random.choice([\"India\", \"Canada\", \"Pakistan\"]),\n",
    "            \"gender\": np.random.choice([\"M\", \"F\", \"Not Specified\"], p=[0.3, 0.6, 0.1]),\n",
    "        }\n",
    "        for x in range(num)\n",
    "    ]\n",
    "    return output"
   ]
  },
  {
   "cell_type": "code",
   "execution_count": 12,
   "metadata": {},
   "outputs": [
    {
     "data": {
      "text/html": [
       "<div>\n",
       "<style scoped>\n",
       "    .dataframe tbody tr th:only-of-type {\n",
       "        vertical-align: middle;\n",
       "    }\n",
       "\n",
       "    .dataframe tbody tr th {\n",
       "        vertical-align: top;\n",
       "    }\n",
       "\n",
       "    .dataframe thead th {\n",
       "        text-align: right;\n",
       "    }\n",
       "</style>\n",
       "<table border=\"1\" class=\"dataframe\">\n",
       "  <thead>\n",
       "    <tr style=\"text-align: right;\">\n",
       "      <th></th>\n",
       "      <th>name</th>\n",
       "      <th>email</th>\n",
       "      <th>country</th>\n",
       "      <th>gender</th>\n",
       "    </tr>\n",
       "  </thead>\n",
       "  <tbody>\n",
       "    <tr>\n",
       "      <th>0</th>\n",
       "      <td>Richard</td>\n",
       "      <td>gwilliams@yahoo.com</td>\n",
       "      <td>India</td>\n",
       "      <td>F</td>\n",
       "    </tr>\n",
       "    <tr>\n",
       "      <th>1</th>\n",
       "      <td>Sullivan</td>\n",
       "      <td>tammy59@gmail.com</td>\n",
       "      <td>India</td>\n",
       "      <td>F</td>\n",
       "    </tr>\n",
       "    <tr>\n",
       "      <th>2</th>\n",
       "      <td>Wagner</td>\n",
       "      <td>donald19@yahoo.com</td>\n",
       "      <td>Canada</td>\n",
       "      <td>F</td>\n",
       "    </tr>\n",
       "    <tr>\n",
       "      <th>3</th>\n",
       "      <td>Archer</td>\n",
       "      <td>kyleblair@hotmail.com</td>\n",
       "      <td>Pakistan</td>\n",
       "      <td>F</td>\n",
       "    </tr>\n",
       "    <tr>\n",
       "      <th>4</th>\n",
       "      <td>Rivera</td>\n",
       "      <td>gomezleslie@hotmail.com</td>\n",
       "      <td>Pakistan</td>\n",
       "      <td>M</td>\n",
       "    </tr>\n",
       "  </tbody>\n",
       "</table>\n",
       "</div>"
      ],
      "text/plain": [
       "       name                    email   country gender\n",
       "0   Richard      gwilliams@yahoo.com     India      F\n",
       "1  Sullivan        tammy59@gmail.com     India      F\n",
       "2    Wagner       donald19@yahoo.com    Canada      F\n",
       "3    Archer    kyleblair@hotmail.com  Pakistan      F\n",
       "4    Rivera  gomezleslie@hotmail.com  Pakistan      M"
      ]
     },
     "execution_count": 12,
     "metadata": {},
     "output_type": "execute_result"
    }
   ],
   "source": [
    "df = pd.DataFrame(faker_categorical(num=100, seed=0))\n",
    "df.head(5)"
   ]
  },
  {
   "cell_type": "code",
   "execution_count": null,
   "metadata": {},
   "outputs": [],
   "source": [
    "df.to_csv(\"data/fake_data.csv\")"
   ]
  }
 ],
 "metadata": {
  "kernelspec": {
   "display_name": "Python 3 (ipykernel)",
   "language": "python",
   "name": "python3"
  },
  "language_info": {
   "codemirror_mode": {
    "name": "ipython",
    "version": 3
   },
   "file_extension": ".py",
   "mimetype": "text/x-python",
   "name": "python",
   "nbconvert_exporter": "python",
   "pygments_lexer": "ipython3",
   "version": "3.8.5"
  }
 },
 "nbformat": 4,
 "nbformat_minor": 4
}
