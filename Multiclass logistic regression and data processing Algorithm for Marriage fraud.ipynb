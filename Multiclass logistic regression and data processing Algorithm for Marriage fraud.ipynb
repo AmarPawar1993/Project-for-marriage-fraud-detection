{
 "cells": [
  {
   "cell_type": "code",
   "execution_count": 1,
   "id": "dd1ae5ff",
   "metadata": {},
   "outputs": [],
   "source": [
    "import pandas as pd \n",
    "import numpy as np \n",
    "import seaborn as sb\n",
    "from sklearn import svm\n",
    "import sklearn.model_selection as model_selection\n",
    "from sklearn.metrics import accuracy_score\n",
    "from sklearn.metrics import f1_score"
   ]
  },
  {
   "cell_type": "code",
   "execution_count": 2,
   "id": "8872485e",
   "metadata": {},
   "outputs": [
    {
     "name": "stderr",
     "output_type": "stream",
     "text": [
      "C:\\Users\\amarp\\anaconda3\\lib\\site-packages\\IPython\\core\\interactiveshell.py:3165: DtypeWarning: Columns (35,36) have mixed types.Specify dtype option on import or set low_memory=False.\n",
      "  has_raised = await self.run_ast_nodes(code_ast.body, cell_name,\n"
     ]
    }
   ],
   "source": [
    "Data = pd.read_csv('D:/Class work/Fall 2021/DAEN 690/Assignments/combPeopledfCheck750000.csv')"
   ]
  },
  {
   "cell_type": "code",
   "execution_count": 3,
   "id": "1a77227d",
   "metadata": {},
   "outputs": [
    {
     "name": "stdout",
     "output_type": "stream",
     "text": [
      "        ApplicantID [I130]PeopleNamePetitioner [I130A]PeopleNameBeneficiary  \\\n",
      "206188      2406188               Felicia King                  Craig White   \n",
      "630865      1130865            Rebecca Russell                   Jodi Fritz   \n",
      "477032      2927032               Andrea Munoz                 Linda Garcia   \n",
      "259398      2509398               Kelly Rangel                  Erica Moore   \n",
      "689257      1239257        Christopher Bennett                Gary Campbell   \n",
      "...             ...                        ...                          ...   \n",
      "4083        2004083              Jeffrey Woods              Elaine Crawford   \n",
      "114835      2214835                Brandy Hill                  Amy Mendoza   \n",
      "397043      2747043               Megan Osborn               Jennifer Evans   \n",
      "322136      2622136                 Leroy Haas                Michael Jones   \n",
      "53943       2103943                Alex Palmer            Alexandria Taylor   \n",
      "\n",
      "       [I130]DOBPetitioner [I130]MailingStateFilingPetitioner  \\\n",
      "206188           10/3/1982                        Connecticut   \n",
      "630865           11/1/1964                         New Mexico   \n",
      "477032          11/18/1996                           Maryland   \n",
      "259398           5/30/1997                      Massachusetts   \n",
      "689257          12/20/1966                         New Mexico   \n",
      "...                    ...                                ...   \n",
      "4083             3/29/1984                            Arizona   \n",
      "114835            4/8/1993                            Georgia   \n",
      "397043           6/24/1994                          Tennessee   \n",
      "322136           10/5/1985                               Utah   \n",
      "53943           12/18/1972                         New Mexico   \n",
      "\n",
      "       [I130A]CountryOfBirthBeneficiary [I130A]GenderBeneficiary  \\\n",
      "206188                        Guatemala                        M   \n",
      "630865                          Jamaica                        F   \n",
      "477032                        Guatemala                        M   \n",
      "259398                            Japan                        M   \n",
      "689257                           Guinea                        M   \n",
      "...                                 ...                      ...   \n",
      "4083                           Slovenia                        M   \n",
      "114835                           Brunei                        M   \n",
      "397043                           Norway                        M   \n",
      "322136               Russian Federation                        F   \n",
      "53943                        Madagascar                        M   \n",
      "\n",
      "       [I130]PassportExpiryBeneficiary [I130]PetitionerEthnicity  \\\n",
      "206188                       9/14/2027    Not Hispanic or Latino   \n",
      "630865                        8/4/2031        Hispanic or Latino   \n",
      "477032                      11/13/2022    Not Hispanic or Latino   \n",
      "259398                       3/31/2030    Not Hispanic or Latino   \n",
      "689257                       10/5/2026        Hispanic or Latino   \n",
      "...                                ...                       ...   \n",
      "4083                        12/10/2027    Not Hispanic or Latino   \n",
      "114835                       10/1/2031    Not Hispanic or Latino   \n",
      "397043                        1/9/2028        Hispanic or Latino   \n",
      "322136                       5/26/2031        Hispanic or Latino   \n",
      "53943                        3/21/2025    Not Hispanic or Latino   \n",
      "\n",
      "                             [I130]PetitionerRace  ...  \\\n",
      "206188                 Black or African Ammerican  ...   \n",
      "630865           American Indian or Alaska Native  ...   \n",
      "477032                                      Asian  ...   \n",
      "259398  Native Hawaiian or Other Pacific Islander  ...   \n",
      "689257           American Indian or Alaska Native  ...   \n",
      "...                                           ...  ...   \n",
      "4083                                        Asian  ...   \n",
      "114835  Native Hawaiian or Other Pacific Islander  ...   \n",
      "397043  Native Hawaiian or Other Pacific Islander  ...   \n",
      "322136  Native Hawaiian or Other Pacific Islander  ...   \n",
      "53943            American Indian or Alaska Native  ...   \n",
      "\n",
      "       [I130]LastMarriageEndDateBeneficiary  [I864]FederalTaxFiledYears  \\\n",
      "206188                                  NaN               3 or 3+ years   \n",
      "630865                                  NaN               3 or 3+ years   \n",
      "477032                                  NaN               3 or 3+ years   \n",
      "259398                                  NaN               3 or 3+ years   \n",
      "689257                            7/13/2019               3 or 3+ years   \n",
      "...                                     ...                         ...   \n",
      "4083                                    NaN               3 or 3+ years   \n",
      "114835                                  NaN               3 or 3+ years   \n",
      "397043                                  NaN               3 or 3+ years   \n",
      "322136                                  NaN               3 or 3+ years   \n",
      "53943                                   NaN               3 or 3+ years   \n",
      "\n",
      "        [CALCULATED]LengthOfMarriage [CALCULATED]YearsSinceDateofEntry  \\\n",
      "206188                             5                                12   \n",
      "630865                             3                                11   \n",
      "477032                             4                                 7   \n",
      "259398                             3                                11   \n",
      "689257                             1                                11   \n",
      "...                              ...                               ...   \n",
      "4083                               5                                17   \n",
      "114835                             4                                11   \n",
      "397043                             6                                18   \n",
      "322136                             4                                14   \n",
      "53943                              5                                12   \n",
      "\n",
      "       [CALCULATED]TotalYearsFromLastMarriagePetitioner  \\\n",
      "206188                                              NaN   \n",
      "630865                                              NaN   \n",
      "477032                                              NaN   \n",
      "259398                                              NaN   \n",
      "689257                                             1.54   \n",
      "...                                                 ...   \n",
      "4083                                                NaN   \n",
      "114835                                              NaN   \n",
      "397043                                              NaN   \n",
      "322136                                              NaN   \n",
      "53943                                               NaN   \n",
      "\n",
      "       [CALCULATED]TotalYearsFromLastMarriageBeneficiary  \\\n",
      "206188                                               NaN   \n",
      "630865                                               NaN   \n",
      "477032                                               NaN   \n",
      "259398                                               NaN   \n",
      "689257                                               1.0   \n",
      "...                                                  ...   \n",
      "4083                                                 NaN   \n",
      "114835                                               NaN   \n",
      "397043                                               NaN   \n",
      "322136                                               NaN   \n",
      "53943                                                NaN   \n",
      "\n",
      "       [CALCULATED]DiffEntryDateAndMarriageDate [Calculated]FlagType  \\\n",
      "206188                                     2796                Green   \n",
      "630865                                     2949               Yellow   \n",
      "477032                                     1283               Yellow   \n",
      "259398                                     3012                Green   \n",
      "689257                                     3558                  Red   \n",
      "...                                         ...                  ...   \n",
      "4083                                       4249                Green   \n",
      "114835                                     2768                Green   \n",
      "397043                                     4534                  Red   \n",
      "322136                                     3731                Green   \n",
      "53943                                      2345                Green   \n",
      "\n",
      "       [Calculated]FraudLikelihood  \\\n",
      "206188                          No   \n",
      "630865                         Yes   \n",
      "477032                         Yes   \n",
      "259398                          No   \n",
      "689257                         Yes   \n",
      "...                            ...   \n",
      "4083                            No   \n",
      "114835                          No   \n",
      "397043                         Yes   \n",
      "322136                          No   \n",
      "53943                           No   \n",
      "\n",
      "                             [Calculated]FraudDescriptive  \n",
      "206188                                                NaN  \n",
      "630865  Yellow Flag: Different State; Yellow Flag: Cri...  \n",
      "477032                     Yellow Flag: Different State;   \n",
      "259398                                                NaN  \n",
      "689257  Red Flag: Same State - Different Address; Yell...  \n",
      "...                                                   ...  \n",
      "4083                                                  NaN  \n",
      "114835                                                NaN  \n",
      "397043  Red Flag: Total Income less than Federal Pover...  \n",
      "322136                                                NaN  \n",
      "53943                                                 NaN  \n",
      "\n",
      "[750000 rows x 54 columns]\n"
     ]
    }
   ],
   "source": [
    "Data = Data.sample(frac = 1)\n",
    "print(Data)"
   ]
  },
  {
   "cell_type": "code",
   "execution_count": 4,
   "id": "8525560b",
   "metadata": {},
   "outputs": [],
   "source": [
    "def federalpovertyline(x,y):\n",
    "    if x >= y:\n",
    "        return 'Yes'\n",
    "    else:\n",
    "        return 'No'"
   ]
  },
  {
   "cell_type": "code",
   "execution_count": 5,
   "id": "59923c84",
   "metadata": {},
   "outputs": [],
   "source": [
    "Data['[CALCULATED]IncomeAboveFederalPovertyLine']= Data.apply(lambda x: federalpovertyline(x[\"[CALCULATED]TotalIncome\"], x[\"[CALCULATED]FederalPovertyLineValue\"]), axis=1)"
   ]
  },
  {
   "cell_type": "code",
   "execution_count": 6,
   "id": "c156c135",
   "metadata": {},
   "outputs": [],
   "source": [
    "def TotalYearsFromLastMarriageCategoricalFn(x):\n",
    "    if x >= 2:\n",
    "        a=\"2 or More Years\"\n",
    "    elif x < 2:\n",
    "        a=\"Less than 2 Years\"\n",
    "    else:\n",
    "        a=\"Green\"\n",
    "    \n",
    "    return a"
   ]
  },
  {
   "cell_type": "code",
   "execution_count": 7,
   "id": "c9cd06bf",
   "metadata": {},
   "outputs": [],
   "source": [
    "Data['[CALCULATED]TotalYearsFromLastMarriagePetitionerCategorical'] =  Data['[CALCULATED]TotalYearsFromLastMarriagePetitioner'].apply(lambda x: TotalYearsFromLastMarriageCategoricalFn(x))"
   ]
  },
  {
   "cell_type": "code",
   "execution_count": 8,
   "id": "058bf09f",
   "metadata": {},
   "outputs": [],
   "source": [
    "Data['[CALCULATED]TotalYearsFromLastMarriageBeneficiaryCategorical'] =  Data['[CALCULATED]TotalYearsFromLastMarriageBeneficiary'].apply(lambda x: TotalYearsFromLastMarriageCategoricalFn(x))"
   ]
  },
  {
   "cell_type": "code",
   "execution_count": 9,
   "id": "b9ba7324",
   "metadata": {},
   "outputs": [
    {
     "data": {
      "text/plain": [
       "Yes    707708\n",
       "No      42292\n",
       "Name: [CALCULATED]IncomeAboveFederalPovertyLine, dtype: int64"
      ]
     },
     "execution_count": 9,
     "metadata": {},
     "output_type": "execute_result"
    }
   ],
   "source": [
    "Data['[CALCULATED]IncomeAboveFederalPovertyLine'].value_counts()"
   ]
  },
  {
   "cell_type": "code",
   "execution_count": 10,
   "id": "394cb38f",
   "metadata": {},
   "outputs": [],
   "source": [
    "def Fraud(x):\n",
    "    if x == \"Yes\":\n",
    "        return 1\n",
    "    else:\n",
    "        return 0"
   ]
  },
  {
   "cell_type": "code",
   "execution_count": 11,
   "id": "2fafd44b",
   "metadata": {},
   "outputs": [],
   "source": [
    "Data['[Calculated]FraudLikelihoodnumeric']= Data['[Calculated]FraudLikelihood'].apply(lambda x: Fraud(x))"
   ]
  },
  {
   "cell_type": "code",
   "execution_count": 12,
   "id": "f0e2db00",
   "metadata": {},
   "outputs": [
    {
     "data": {
      "text/plain": [
       "0    434518\n",
       "1    315482\n",
       "Name: [Calculated]FraudLikelihoodnumeric, dtype: int64"
      ]
     },
     "execution_count": 12,
     "metadata": {},
     "output_type": "execute_result"
    }
   ],
   "source": [
    "Data['[Calculated]FraudLikelihoodnumeric'].value_counts()"
   ]
  },
  {
   "cell_type": "code",
   "execution_count": 13,
   "id": "a17d744b",
   "metadata": {},
   "outputs": [],
   "source": [
    "Data['[I130]PreviousFiledPetitionerSameSpouseRejectionCondition'].fillna(\"Green\",inplace = True)"
   ]
  },
  {
   "cell_type": "code",
   "execution_count": 14,
   "id": "072c14b5",
   "metadata": {},
   "outputs": [],
   "source": [
    "Data['[I130]PreviousPetitionFiledDifferentSpouseRejectionCondition'].fillna(\"Green\",inplace = True)"
   ]
  },
  {
   "cell_type": "code",
   "execution_count": 15,
   "id": "d8556e9d",
   "metadata": {},
   "outputs": [
    {
     "data": {
      "text/plain": [
       "Green               719961\n",
       "Minor Reasons        15053\n",
       "Moderate Reasons     10425\n",
       "Major Reasons         4561\n",
       "Name: [I130]PreviousFiledPetitionerSameSpouseRejectionCondition, dtype: int64"
      ]
     },
     "execution_count": 15,
     "metadata": {},
     "output_type": "execute_result"
    }
   ],
   "source": [
    "Data['[I130]PreviousFiledPetitionerSameSpouseRejectionCondition'].value_counts()"
   ]
  },
  {
   "cell_type": "code",
   "execution_count": 16,
   "id": "de78eb54",
   "metadata": {},
   "outputs": [
    {
     "data": {
      "text/plain": [
       "Green               710039\n",
       "Minor Reasons        20001\n",
       "Moderate Reasons     13947\n",
       "Major Reasons         6013\n",
       "Name: [I130]PreviousPetitionFiledDifferentSpouseRejectionCondition, dtype: int64"
      ]
     },
     "execution_count": 16,
     "metadata": {},
     "output_type": "execute_result"
    }
   ],
   "source": [
    "Data['[I130]PreviousPetitionFiledDifferentSpouseRejectionCondition'].value_counts()"
   ]
  },
  {
   "cell_type": "code",
   "execution_count": 17,
   "id": "59f443ee",
   "metadata": {},
   "outputs": [],
   "source": [
    "def CriminalityProvedConvictedTypeFn(x):\n",
    "    if x == \"Major Reasons\" or x == \"Minor Reasons\":\n",
    "        a = x\n",
    "    else:\n",
    "        a = \"Green\"\n",
    "        \n",
    "    return a"
   ]
  },
  {
   "cell_type": "code",
   "execution_count": 18,
   "id": "55ee788b",
   "metadata": {},
   "outputs": [],
   "source": [
    "Data['[I485]CriminalityProvedConvictedTypeN'] =  Data['[I485]CriminalityProvedConvictedType'].apply(lambda x: CriminalityProvedConvictedTypeFn(x))"
   ]
  },
  {
   "cell_type": "code",
   "execution_count": 19,
   "id": "e7af7e7a",
   "metadata": {},
   "outputs": [
    {
     "data": {
      "text/plain": [
       "Green            714494\n",
       "Minor Reasons     26540\n",
       "Major Reasons      8966\n",
       "Name: [I485]CriminalityProvedConvictedTypeN, dtype: int64"
      ]
     },
     "execution_count": 19,
     "metadata": {},
     "output_type": "execute_result"
    }
   ],
   "source": [
    "Data['[I485]CriminalityProvedConvictedTypeN'].value_counts()"
   ]
  },
  {
   "cell_type": "code",
   "execution_count": 20,
   "id": "841799b1",
   "metadata": {},
   "outputs": [],
   "source": [
    "def Agegapfn(x):\n",
    "    if x >= 15:\n",
    "        return \"red\"\n",
    "    elif x<15 and x>9:\n",
    "        return \"Yellow\"\n",
    "    else:\n",
    "        return \"Green\"\n",
    "        "
   ]
  },
  {
   "cell_type": "code",
   "execution_count": 21,
   "id": "5055b3aa",
   "metadata": {},
   "outputs": [],
   "source": [
    "Data['[CALCULATED]AgeGapYears_Cat'] =  Data['[CALCULATED]AgeGapYears'].apply(lambda x: Agegapfn(x))"
   ]
  },
  {
   "cell_type": "code",
   "execution_count": 22,
   "id": "49e47632",
   "metadata": {},
   "outputs": [
    {
     "data": {
      "text/plain": [
       "Green     635349\n",
       "red        79284\n",
       "Yellow     35367\n",
       "Name: [CALCULATED]AgeGapYears_Cat, dtype: int64"
      ]
     },
     "execution_count": 22,
     "metadata": {},
     "output_type": "execute_result"
    }
   ],
   "source": [
    "Data['[CALCULATED]AgeGapYears_Cat'].value_counts() "
   ]
  },
  {
   "cell_type": "code",
   "execution_count": 23,
   "id": "0714791d",
   "metadata": {},
   "outputs": [],
   "source": [
    "def RedGreenYellow(x):\n",
    "    if x == 'Green':\n",
    "        return 0\n",
    "    elif x == \"Yellow\":\n",
    "        return 1\n",
    "    else:\n",
    "        return 2"
   ]
  },
  {
   "cell_type": "code",
   "execution_count": 24,
   "id": "288a098e",
   "metadata": {},
   "outputs": [],
   "source": [
    "Data['[Calculated]FlagType'] = Data['[Calculated]FlagType'].apply(lambda x: RedGreenYellow(x))"
   ]
  },
  {
   "cell_type": "code",
   "execution_count": 25,
   "id": "fa948126",
   "metadata": {},
   "outputs": [
    {
     "data": {
      "text/plain": [
       "0    434518\n",
       "2    222642\n",
       "1     92840\n",
       "Name: [Calculated]FlagType, dtype: int64"
      ]
     },
     "execution_count": 25,
     "metadata": {},
     "output_type": "execute_result"
    }
   ],
   "source": [
    "Data['[Calculated]FlagType'].value_counts()"
   ]
  },
  {
   "cell_type": "code",
   "execution_count": 26,
   "id": "54c41c59",
   "metadata": {},
   "outputs": [],
   "source": [
    "X = Data[['[I130]StayingTogetherStatus','[I130]CurrentMaritalStatus','[I485-130]SameEmployer','[I130]ImmigrationProceeding',\n",
    "         '[I130A]BeneficiaryInUS','[I130-MarriageCertificate]SamePreparorNoterMinister','[CALCULATED]AgeGapYears_Cat','[I130]NumberOfMarriagesPetitioner',\n",
    "         '[I130]NumberOfMarriagesBeneficiary','[I485]CriminalityProvedConvictedTypeN','[I130]PreviousFiledPetitionerSameSpouseRejectionCondition',\n",
    "         '[I130]PreviousPetitionFiledDifferentSpouseRejectionCondition','[CALCULATED]IncomeAboveFederalPovertyLine','[I864]FederalTaxFiledYears',\n",
    "         '[CALCULATED]LengthOfMarriage','[CALCULATED]DiffEntryDateAndMarriageDate','[CALCULATED]TotalYearsFromLastMarriagePetitionerCategorical',\n",
    "         '[CALCULATED]TotalYearsFromLastMarriageBeneficiaryCategorical']]"
   ]
  },
  {
   "cell_type": "code",
   "execution_count": 27,
   "id": "23b230a0",
   "metadata": {},
   "outputs": [],
   "source": [
    "dummylist = ['[I130]StayingTogetherStatus','[I130]CurrentMaritalStatus','[I485-130]SameEmployer','[I130]ImmigrationProceeding',\n",
    "            '[I130A]BeneficiaryInUS','[I130-MarriageCertificate]SamePreparorNoterMinister','[I485]CriminalityProvedConvictedTypeN',\n",
    "            '[I130]PreviousFiledPetitionerSameSpouseRejectionCondition','[I130]PreviousPetitionFiledDifferentSpouseRejectionCondition',\n",
    "            '[CALCULATED]IncomeAboveFederalPovertyLine','[I864]FederalTaxFiledYears','[CALCULATED]TotalYearsFromLastMarriagePetitionerCategorical',\n",
    "            '[CALCULATED]TotalYearsFromLastMarriageBeneficiaryCategorical','[CALCULATED]AgeGapYears_Cat']"
   ]
  },
  {
   "cell_type": "code",
   "execution_count": 28,
   "id": "64216db3",
   "metadata": {},
   "outputs": [],
   "source": [
    "def dummy(Data,dummylist):\n",
    "    for X in dummylist:\n",
    "        dummies = pd.get_dummies(Data[X], prefix=X, dummy_na=False)\n",
    "        Data = Data.drop(X,1)\n",
    "        Data = pd.concat([Data, dummies],axis = 1)\n",
    "    return Data "
   ]
  },
  {
   "cell_type": "code",
   "execution_count": 29,
   "id": "281289df",
   "metadata": {},
   "outputs": [],
   "source": [
    "X = dummy(X , dummylist)"
   ]
  },
  {
   "cell_type": "code",
   "execution_count": 30,
   "id": "8fade0a0",
   "metadata": {},
   "outputs": [],
   "source": [
    "datacorr = X.corr().abs()"
   ]
  },
  {
   "cell_type": "code",
   "execution_count": 31,
   "id": "28ac9990",
   "metadata": {},
   "outputs": [
    {
     "name": "stderr",
     "output_type": "stream",
     "text": [
      "<ipython-input-31-af5c9e6a0792>:1: DeprecationWarning: `np.bool` is a deprecated alias for the builtin `bool`. To silence this warning, use `bool` by itself. Doing this will not modify any behavior and is safe. If you specifically wanted the numpy scalar type, use `np.bool_` here.\n",
      "Deprecated in NumPy 1.20; for more details and guidance: https://numpy.org/devdocs/release/1.20.0-notes.html#deprecations\n",
      "  upper = datacorr.where(np.triu(np.ones(datacorr.shape), k=1).astype(np.bool))\n"
     ]
    }
   ],
   "source": [
    "upper = datacorr.where(np.triu(np.ones(datacorr.shape), k=1).astype(np.bool))\n",
    "to_drop = [column for column in upper.columns if any(upper[column] > 0.7)]"
   ]
  },
  {
   "cell_type": "code",
   "execution_count": 32,
   "id": "32dd6fa9",
   "metadata": {},
   "outputs": [],
   "source": [
    "X = X.drop(X[to_drop], axis=1)"
   ]
  },
  {
   "cell_type": "code",
   "execution_count": 33,
   "id": "e30f475b",
   "metadata": {},
   "outputs": [],
   "source": [
    "Y = Data[['[Calculated]FlagType']]"
   ]
  },
  {
   "cell_type": "code",
   "execution_count": 34,
   "id": "35f5841e",
   "metadata": {},
   "outputs": [],
   "source": [
    "from sklearn.model_selection import train_test_split\n",
    "from sklearn.linear_model import LogisticRegression\n",
    "from sklearn.metrics import classification_report"
   ]
  },
  {
   "cell_type": "code",
   "execution_count": 35,
   "id": "dcbe3292",
   "metadata": {},
   "outputs": [],
   "source": [
    "X_train, X_test, y_train, y_test = train_test_split(X,Y, train_size=0.8,test_size=0.2,random_state=42)"
   ]
  },
  {
   "cell_type": "code",
   "execution_count": null,
   "id": "5b67a1af",
   "metadata": {},
   "outputs": [],
   "source": [
    "# rbf = svm.SVC(kernel='rbf', gamma=0.5, C=0.1).fit(X_train, y_train)"
   ]
  },
  {
   "cell_type": "code",
   "execution_count": null,
   "id": "01ad1d2b",
   "metadata": {},
   "outputs": [],
   "source": [
    "# rbf_pred = rbf.predict(X_test)"
   ]
  },
  {
   "cell_type": "code",
   "execution_count": 40,
   "id": "790a2950",
   "metadata": {},
   "outputs": [],
   "source": [
    "model = LogisticRegression(multi_class='multinomial', solver='lbfgs',penalty='none')"
   ]
  },
  {
   "cell_type": "code",
   "execution_count": 41,
   "id": "00d58215",
   "metadata": {},
   "outputs": [
    {
     "name": "stderr",
     "output_type": "stream",
     "text": [
      "C:\\Users\\amarp\\anaconda3\\lib\\site-packages\\sklearn\\utils\\validation.py:63: DataConversionWarning: A column-vector y was passed when a 1d array was expected. Please change the shape of y to (n_samples, ), for example using ravel().\n",
      "  return f(*args, **kwargs)\n",
      "C:\\Users\\amarp\\anaconda3\\lib\\site-packages\\sklearn\\linear_model\\_logistic.py:763: ConvergenceWarning: lbfgs failed to converge (status=1):\n",
      "STOP: TOTAL NO. of ITERATIONS REACHED LIMIT.\n",
      "\n",
      "Increase the number of iterations (max_iter) or scale the data as shown in:\n",
      "    https://scikit-learn.org/stable/modules/preprocessing.html\n",
      "Please also refer to the documentation for alternative solver options:\n",
      "    https://scikit-learn.org/stable/modules/linear_model.html#logistic-regression\n",
      "  n_iter_i = _check_optimize_result(\n"
     ]
    }
   ],
   "source": [
    "log_model = model.fit(X_train, y_train)"
   ]
  },
  {
   "cell_type": "code",
   "execution_count": 42,
   "id": "fb399bce",
   "metadata": {},
   "outputs": [],
   "source": [
    "y_predict_proba = model.predict_proba(X_test)"
   ]
  },
  {
   "cell_type": "code",
   "execution_count": 43,
   "id": "215a96b9",
   "metadata": {},
   "outputs": [],
   "source": [
    "y_predict = model.predict(X_test)"
   ]
  },
  {
   "cell_type": "code",
   "execution_count": 45,
   "id": "6fc8fbef",
   "metadata": {},
   "outputs": [
    {
     "data": {
      "text/plain": [
       "array([[86310,     0,   789],\n",
       "       [ 3448, 14044,  1153],\n",
       "       [ 4186,  2036, 38034]], dtype=int64)"
      ]
     },
     "execution_count": 45,
     "metadata": {},
     "output_type": "execute_result"
    }
   ],
   "source": [
    "from sklearn.metrics import confusion_matrix\n",
    "M = confusion_matrix(y_test, y_predict)\n",
    "M"
   ]
  },
  {
   "cell_type": "code",
   "execution_count": 46,
   "id": "fc3ba719",
   "metadata": {},
   "outputs": [
    {
     "data": {
      "text/html": [
       "<div>\n",
       "<style scoped>\n",
       "    .dataframe tbody tr th:only-of-type {\n",
       "        vertical-align: middle;\n",
       "    }\n",
       "\n",
       "    .dataframe tbody tr th {\n",
       "        vertical-align: top;\n",
       "    }\n",
       "\n",
       "    .dataframe thead th {\n",
       "        text-align: right;\n",
       "    }\n",
       "</style>\n",
       "<table border=\"1\" class=\"dataframe\">\n",
       "  <thead>\n",
       "    <tr style=\"text-align: right;\">\n",
       "      <th></th>\n",
       "      <th>Predicted_Green</th>\n",
       "      <th>Predicted_yellow</th>\n",
       "      <th>Predicted_Red</th>\n",
       "    </tr>\n",
       "  </thead>\n",
       "  <tbody>\n",
       "    <tr>\n",
       "      <th>Green</th>\n",
       "      <td>86310</td>\n",
       "      <td>0</td>\n",
       "      <td>789</td>\n",
       "    </tr>\n",
       "    <tr>\n",
       "      <th>Yellow</th>\n",
       "      <td>3448</td>\n",
       "      <td>14044</td>\n",
       "      <td>1153</td>\n",
       "    </tr>\n",
       "    <tr>\n",
       "      <th>Red</th>\n",
       "      <td>4186</td>\n",
       "      <td>2036</td>\n",
       "      <td>38034</td>\n",
       "    </tr>\n",
       "  </tbody>\n",
       "</table>\n",
       "</div>"
      ],
      "text/plain": [
       "        Predicted_Green  Predicted_yellow  Predicted_Red\n",
       "Green             86310                 0            789\n",
       "Yellow             3448             14044           1153\n",
       "Red                4186              2036          38034"
      ]
     },
     "execution_count": 46,
     "metadata": {},
     "output_type": "execute_result"
    }
   ],
   "source": [
    "pd.DataFrame(M,index=['Green','Yellow','Red'], columns =['Predicted_Green','Predicted_yellow','Predicted_Red'])"
   ]
  },
  {
   "cell_type": "code",
   "execution_count": 47,
   "id": "c76ef633",
   "metadata": {},
   "outputs": [
    {
     "name": "stdout",
     "output_type": "stream",
     "text": [
      "              precision    recall  f1-score   support\n",
      "\n",
      "           0       0.92      0.99      0.95     87099\n",
      "           1       0.87      0.75      0.81     18645\n",
      "           2       0.95      0.86      0.90     44256\n",
      "\n",
      "    accuracy                           0.92    150000\n",
      "   macro avg       0.91      0.87      0.89    150000\n",
      "weighted avg       0.92      0.92      0.92    150000\n",
      "\n"
     ]
    }
   ],
   "source": [
    "Class_report = classification_report(y_test,y_predict)\n",
    "print(Class_report)"
   ]
  },
  {
   "cell_type": "code",
   "execution_count": 58,
   "id": "64fd302d",
   "metadata": {},
   "outputs": [],
   "source": [
    "import sklearn.metrics as metrics\n",
    "from sklearn.metrics import roc_curve, roc_auc_score"
   ]
  },
  {
   "cell_type": "code",
   "execution_count": 57,
   "id": "8fd8edff",
   "metadata": {},
   "outputs": [],
   "source": [
    "fpr = {}\n",
    "tpr = {}\n",
    "thresh ={}\n",
    "\n",
    "n_class = 3\n",
    "\n",
    "for i in range(n_class):    \n",
    "    fpr[i], tpr[i], thresh[i] = roc_curve(y_test, y_predict_proba[:,i], pos_label=i)"
   ]
  },
  {
   "cell_type": "code",
   "execution_count": 61,
   "id": "937eb05f",
   "metadata": {},
   "outputs": [
    {
     "data": {
      "image/png": "[encoded data removed]",
      "text/plain": [
       "<Figure size 432x288 with 1 Axes>"
      ]
     },
     "metadata": {
      "needs_background": "light"
     },
     "output_type": "display_data"
    }
   ],
   "source": [
    "import matplotlib.pyplot as plt\n",
    "plt.plot(fpr[0], tpr[0], linestyle='--',color='green', label='Class 0 vs Rest')\n",
    "plt.plot(fpr[1], tpr[1], linestyle='--',color='yellow', label='Class 1 vs Rest')\n",
    "plt.plot(fpr[2], tpr[2], linestyle='--',color='red', label='Class 2 vs Rest')\n",
    "plt.title('Multiclass ROC curve')\n",
    "plt.xlabel('False Positive Rate')\n",
    "plt.ylabel('True Positive rate')\n",
    "plt.legend(loc='best')\n",
    "plt.savefig('Multiclass ROC',dpi=300);"
   ]
  },
  {
   "cell_type": "code",
   "execution_count": null,
   "id": "74cc5608",
   "metadata": {},
   "outputs": [],
   "source": []
  }
 ],
 "metadata": {
  "kernelspec": {
   "display_name": "Python 3",
   "language": "python",
   "name": "python3"
  },
  "language_info": {
   "codemirror_mode": {
    "name": "ipython",
    "version": 3
   },
   "file_extension": ".py",
   "mimetype": "text/x-python",
   "name": "python",
   "nbconvert_exporter": "python",
   "pygments_lexer": "ipython3",
   "version": "3.8.8"
  }
 },
 "nbformat": 4,
 "nbformat_minor": 5
}
